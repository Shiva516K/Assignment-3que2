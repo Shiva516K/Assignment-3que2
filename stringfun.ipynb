{
 "cells": [
  {
   "cell_type": "code",
   "execution_count": 1,
   "id": "dc9acc20",
   "metadata": {},
   "outputs": [
    {
     "name": "stdout",
     "output_type": "stream",
     "text": [
      "1234abcd\n",
      "dcba4321\n"
     ]
    }
   ],
   "source": [
    "def reverse_strings(a):\n",
    "    str1=\"\"\n",
    "    for i in a:\n",
    "        str1=i+str1\n",
    "    return str1\n",
    "str2=(\"1234abcd\")\n",
    "print(str2)\n",
    "print(reverse_strings(str2))"
   ]
  },
  {
   "cell_type": "code",
   "execution_count": null,
   "id": "8589e9eb",
   "metadata": {},
   "outputs": [],
   "source": []
  }
 ],
 "metadata": {
  "kernelspec": {
   "display_name": "Python 3 (ipykernel)",
   "language": "python",
   "name": "python3"
  },
  "language_info": {
   "codemirror_mode": {
    "name": "ipython",
    "version": 3
   },
   "file_extension": ".py",
   "mimetype": "text/x-python",
   "name": "python",
   "nbconvert_exporter": "python",
   "pygments_lexer": "ipython3",
   "version": "3.11.3"
  }
 },
 "nbformat": 4,
 "nbformat_minor": 5
}
